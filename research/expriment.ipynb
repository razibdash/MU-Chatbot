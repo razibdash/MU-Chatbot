{
 "cells": [
  {
   "cell_type": "code",
   "execution_count": 7,
   "id": "2dc0bfeb",
   "metadata": {},
   "outputs": [],
   "source": [
    "from langchain.document_loaders import UnstructuredURLLoader\n",
    "\n",
    "\n",
    "def get_mu_data():\n",
    "    urls = [\n",
    "    \"https://www.metrouni.edu.bd/\",\n",
    "    \"https://www.metrouni.edu.bd/sites/university/contact\",\n",
    "    \"https://www.metrouni.edu.bd/sites/university/history\",\n",
    "\n",
    "        ]\n",
    "\n",
    "    loader = UnstructuredURLLoader(urls=urls)\n",
    "    raw_docs = loader.load()\n",
    "    return raw_docs"
   ]
  },
  {
   "cell_type": "code",
   "execution_count": 10,
   "id": "8cc65c4c",
   "metadata": {},
   "outputs": [],
   "source": [
    "mu_data=get_mu_data()"
   ]
  },
  {
   "cell_type": "code",
   "execution_count": 15,
   "id": "8ba86ec7",
   "metadata": {},
   "outputs": [],
   "source": [
    "#Split the Data into Text Chunks\n",
    "from langchain.text_splitter import RecursiveCharacterTextSplitter\n",
    "def text_split(mu_data):\n",
    "    text_splitter=RecursiveCharacterTextSplitter(chunk_size=1000, chunk_overlap=200)\n",
    "    text_chunks=text_splitter.split_documents(mu_data)\n",
    "    return text_chunks"
   ]
  },
  {
   "cell_type": "code",
   "execution_count": 16,
   "id": "58526d29",
   "metadata": {},
   "outputs": [
    {
     "name": "stdout",
     "output_type": "stream",
     "text": [
      "Length of Text Chunks 15\n"
     ]
    }
   ],
   "source": [
    "text_chunks=text_split(mu_data)\n",
    "print(\"Length of Text Chunks\", len(text_chunks))"
   ]
  },
  {
   "cell_type": "code",
   "execution_count": 23,
   "id": "172eff50",
   "metadata": {},
   "outputs": [
    {
     "name": "stderr",
     "output_type": "stream",
     "text": [
      "C:\\Users\\DELL\\AppData\\Local\\Temp\\ipykernel_18820\\2517085632.py:4: LangChainDeprecationWarning: The class `HuggingFaceEmbeddings` was deprecated in LangChain 0.2.2 and will be removed in 1.0. An updated version of the class exists in the :class:`~langchain-huggingface package and should be used instead. To use it run `pip install -U :class:`~langchain-huggingface` and import as `from :class:`~langchain_huggingface import HuggingFaceEmbeddings``.\n",
      "  embeddings=HuggingFaceEmbeddings(model_name='sentence-transformers/all-MiniLM-L6-v2')\n"
     ]
    }
   ],
   "source": [
    "#Download the Embeddings from Hugging Face\n",
    "from langchain.embeddings import HuggingFaceEmbeddings\n",
    "def download_hugging_face_embeddings():\n",
    "    embeddings=HuggingFaceEmbeddings(model_name='sentence-transformers/all-MiniLM-L6-v2')\n",
    "    return embeddings\n",
    "\n",
    "embeddings = download_hugging_face_embeddings()"
   ]
  },
  {
   "cell_type": "code",
   "execution_count": 19,
   "id": "2aa6325f",
   "metadata": {},
   "outputs": [
    {
     "data": {
      "text/plain": [
       "True"
      ]
     },
     "execution_count": 19,
     "metadata": {},
     "output_type": "execute_result"
    }
   ],
   "source": [
    "\n",
    "from dotenv import load_dotenv\n",
    "import os\n",
    "load_dotenv()"
   ]
  },
  {
   "cell_type": "code",
   "execution_count": 20,
   "id": "fa5669c4",
   "metadata": {},
   "outputs": [],
   "source": [
    "PINECONE_API_KEY=os.environ.get('PINECONE_API_KEY')\n",
    "GROQ_API_KEY=os.environ.get(\"GROQ_API_KEY\")\n",
    "os.environ['PINECONE_API_KEY']=PINECONE_API_KEY\n",
    "os.environ[\"GROQ_API_KEY\"]=GROQ_API_KEY"
   ]
  },
  {
   "cell_type": "code",
   "execution_count": 21,
   "id": "411adb2b",
   "metadata": {},
   "outputs": [],
   "source": [
    "# Step 3: Initialize Pinecone\n",
    "from pinecone import Pinecone\n",
    "\n",
    "pinecone_api_key = PINECONE_API_KEY\n",
    "\n",
    "pc = Pinecone(api_key=pinecone_api_key)"
   ]
  },
  {
   "cell_type": "code",
   "execution_count": 22,
   "id": "c9e2aa4f",
   "metadata": {},
   "outputs": [
    {
     "name": "stderr",
     "output_type": "stream",
     "text": [
      "d:\\anaconda\\envs\\mubot\\lib\\site-packages\\tqdm\\auto.py:21: TqdmWarning: IProgress not found. Please update jupyter and ipywidgets. See https://ipywidgets.readthedocs.io/en/stable/user_install.html\n",
      "  from .autonotebook import tqdm as notebook_tqdm\n"
     ]
    }
   ],
   "source": [
    "from pinecone import ServerlessSpec\n",
    "\n",
    "index_name = \"mu-chatbot\"\n",
    "\n",
    "if not pc.has_index(index_name):\n",
    "    pc.create_index(\n",
    "        name=index_name,\n",
    "        dimension=384,\n",
    "        metric=\"cosine\",\n",
    "        spec=ServerlessSpec(cloud=\"aws\", region=\"us-east-1\"),\n",
    "    )\n",
    "\n",
    "index = pc.Index(index_name)"
   ]
  },
  {
   "cell_type": "code",
   "execution_count": 25,
   "id": "54bb1345",
   "metadata": {},
   "outputs": [],
   "source": [
    "# Embed each chunk and upsert the embeddings into your Pinecone index.\n",
    "from langchain_pinecone import PineconeVectorStore\n",
    "\n",
    "docsearch = PineconeVectorStore.from_documents(\n",
    "    documents=text_chunks,\n",
    "    index_name=index_name,\n",
    "    embedding=embeddings, \n",
    ")"
   ]
  },
  {
   "cell_type": "code",
   "execution_count": 26,
   "id": "93cc53a6",
   "metadata": {},
   "outputs": [
    {
     "data": {
      "text/plain": [
       "[Document(id='418be61a-cd9a-4a6e-9928-cb897f3bfd0e', metadata={'source': 'https://www.metrouni.edu.bd/sites/university/history'}, page_content='With the approval of the Ministry of Education under the Private University Act of 1992 (which was amended first in 1998 and then again in 2010), Metropolitan University came into being on 3rd May 2003.\\n\\nDr. Toufique Rahman Chowdhury, an educationist and a promising entrepreneur of the country initiated the idea of founding Metropolitan University with the direct participation and assistance of a few of his close friends, acquaintances, and associates.\\n\\n“2018” Celebrating Fifteen Years of Success in Quality Education\\n\\n“2017” Inauguration of Permanent Campus\\n\\n“2016” Celebrated thirteen years of Excellence in Education\\n\\n“2015” Second Convocation of the University\\n\\n“2014” Membership of the Accreditation Service for International Schools, Colleges & Universities\\n\\n“2013” Celebrated Ten years of Serving the country through ensuring quality higher education\\n\\n“2012” Opening of Department of Electrical & Electronic Engineering'),\n",
       " Document(id='dd3b0a8c-272d-49f2-977d-f0fdbb25e9e0', metadata={'source': 'https://www.metrouni.edu.bd/'}, page_content=\"Message From The Vice Chancellor\\n\\n\\n\\nProfessor Dr. Mohammad Jahirul Hoque\\n\\nMetropolitan University was established in 2003 with the mission of providing quality tertiary education at an affordable cost. Located, far away from the nation's capital, in the holy city of Sylhet, the university has been engaged in shaping up the future citizens of the country, in grooming them as 'whole' human beings imbued with values, love for their country and roots, and equipped with proper knowledge and expertise in related fields. 21 years is not a great stretch of time to reach any peak but we are determined to make it. We pledge to go ahead with the vision of making Metropolitan University an enviable seat of academic excellence.\\n\\nUseful Link & Form\\n\\nLeave Application Record: Link\\n\\nStation Leave Form: Downloadable PDF\\n\\nOnline Admission Form: Link\\n\\nSCHOOL OF SCIENCE & TECHNOLOGY\"),\n",
       " Document(id='87e8c11e-2724-4db9-953f-67499acbb2d1', metadata={'source': 'https://www.metrouni.edu.bd/sites/university/history'}, page_content='and accommodating the private universities to share this national duty, of course, without making any compromise in academic excellence and other matrices of higher university education. Metropolitan University joins this historic shift to bring quality higher education at affordable cost to the doorsteps of the students.')]"
      ]
     },
     "execution_count": 26,
     "metadata": {},
     "output_type": "execute_result"
    }
   ],
   "source": [
    "docsearch.similarity_search(\"what is the name of metropolitan university Founder\", k=3)\n"
   ]
  },
  {
   "cell_type": "code",
   "execution_count": 27,
   "id": "8604ce08",
   "metadata": {},
   "outputs": [],
   "source": [
    "# Load Existing index \n",
    "# Embed each chunk and upsert the embeddings into your Pinecone index.\n",
    "docsearch = PineconeVectorStore.from_existing_index(\n",
    "    index_name=index_name,\n",
    "    embedding=embeddings\n",
    ")"
   ]
  },
  {
   "cell_type": "code",
   "execution_count": 28,
   "id": "ca3c6721",
   "metadata": {},
   "outputs": [],
   "source": [
    "retriever = docsearch.as_retriever(search_type=\"similarity\", search_kwargs={\"k\":3})"
   ]
  },
  {
   "cell_type": "code",
   "execution_count": 30,
   "id": "37fa9ffd",
   "metadata": {},
   "outputs": [
    {
     "data": {
      "text/plain": [
       "\"Message From The Vice Chancellor\\n\\n\\n\\nProfessor Dr. Mohammad Jahirul Hoque\\n\\nMetropolitan University was established in 2003 with the mission of providing quality tertiary education at an affordable cost. Located, far away from the nation's capital, in the holy city of Sylhet, the university has been engaged in shaping up the future citizens of the country, in grooming them as 'whole' human beings imbued with values, love for their country and roots, and equipped with proper knowledge and expertise in related fields. 21 years is not a great stretch of time to reach any peak but we are determined to make it. We pledge to go ahead with the vision of making Metropolitan University an enviable seat of academic excellence.\\n\\nUseful Link & Form\\n\\nLeave Application Record: Link\\n\\nStation Leave Form: Downloadable PDF\\n\\nOnline Admission Form: Link\\n\\nSCHOOL OF SCIENCE & TECHNOLOGY\""
      ]
     },
     "execution_count": 30,
     "metadata": {},
     "output_type": "execute_result"
    }
   ],
   "source": [
    "res=retriever.invoke(\"what is the name of metropolitan university Founder?\")\n",
    "res[1].page_content"
   ]
  },
  {
   "cell_type": "code",
   "execution_count": 32,
   "id": "8cafe581",
   "metadata": {},
   "outputs": [],
   "source": [
    "from langchain_groq import ChatGroq\n",
    "model=ChatGroq(\n",
    "        temperature = 0.3,\n",
    "        model=\"llama3-70b-8192\",\n",
    "        api_key= os.getenv(\"GROQ_API_KEY\"),\n",
    "    )"
   ]
  },
  {
   "cell_type": "code",
   "execution_count": 33,
   "id": "a35c0656",
   "metadata": {},
   "outputs": [],
   "source": [
    "from langchain.chains import create_retrieval_chain\n",
    "from langchain.chains.combine_documents import create_stuff_documents_chain\n",
    "from langchain_core.prompts import ChatPromptTemplate"
   ]
  },
  {
   "cell_type": "code",
   "execution_count": 34,
   "id": "21b03406",
   "metadata": {},
   "outputs": [],
   "source": [
    "system_prompt = (\"\"\"\n",
    "    \"You are MU Chatbot, the official virtual assistant for Metropolitan University Bangladesh.\"\n",
    "    \"Your role is to provide accurate, helpful, and friendly responses to students, faculty, staff, and visitors. You are knowledgeable about the university's academic programs, departments, admission process, tuition fees, campus facilities, events, and policies.\"\n",
    "     You must:\n",
    "        - Use a polite, professional, and encouraging tone.\n",
    "        - Keep responses concise but informative.\n",
    "        - If unsure about an answer, suggest contacting the university administration directly.\n",
    "        - Avoid giving legal, medical, or financial advice.\n",
    "    University details:\n",
    "        - Name: Metropolitan University Bangladesh\n",
    "        - Location: Sylhet, Bangladesh\n",
    "        - Website: https://metrouni.edu.bd/\n",
    "        - Programs offered: Undergraduate and Postgraduate (Engineering, Business, Law, English, etc.)\n",
    "        - Contact: info@metrouni.edu.bd | +880 821 720303\n",
    "\n",
    "    Examples of tasks you can assist with:\n",
    "        - \"How can I apply for admission?\"\n",
    "        - \"What are the tuition fees for Computer Science?\"\n",
    "        - \"Where is the academic calendar?\"\n",
    "        - \"Tell me about hostel facilities.\"\n",
    "        - \"What are the office hours of the registrar?\"\n",
    "\n",
    "    Always stay respectful and helpful, representing the values of Metropolitan University.\n",
    "    \"\\n\\n\"\n",
    "    \"{context}\"\n",
    "                 \"\"\"\n",
    ")"
   ]
  },
  {
   "cell_type": "code",
   "execution_count": 35,
   "id": "8dc51f26",
   "metadata": {},
   "outputs": [],
   "source": [
    "\n",
    "prompt = ChatPromptTemplate.from_messages(\n",
    "    [\n",
    "        (\"system\", system_prompt),\n",
    "        (\"human\", \"{input}\"),\n",
    "    ]\n",
    ")"
   ]
  },
  {
   "cell_type": "code",
   "execution_count": 36,
   "id": "1d3bd30d",
   "metadata": {},
   "outputs": [],
   "source": [
    "question_answer_chain = create_stuff_documents_chain(model, prompt)\n",
    "rag_chain = create_retrieval_chain(retriever, question_answer_chain)"
   ]
  },
  {
   "cell_type": "code",
   "execution_count": 37,
   "id": "33bee686",
   "metadata": {},
   "outputs": [
    {
     "name": "stdout",
     "output_type": "stream",
     "text": [
      "Dr. Toufique Rahman Chowdhury is the Founder of Metropolitan University Bangladesh. He is also the Chairman Emeritus of the university.\n"
     ]
    }
   ],
   "source": [
    "response = rag_chain.invoke({\"input\": \"who is Dr. Toufique Rahman Chowdhury?\"})\n",
    "print(response[\"answer\"])"
   ]
  },
  {
   "cell_type": "code",
   "execution_count": 40,
   "id": "1862232b",
   "metadata": {},
   "outputs": [
    {
     "name": "stdout",
     "output_type": "stream",
     "text": [
      "I'm not aware of any information about a person named Razib Dash being associated with Metropolitan University Bangladesh. It's possible that Razib Dash is a student, faculty member, or staff of the university, but I don't have any specific information about them.\n",
      "\n",
      "If you could provide more context or details about who Razib Dash is or what they are related to, I may be able to help you better. Alternatively, you can contact the university administration directly at info@metrouni.edu.bd or +880 821 720303 to inquire about Razib Dash.\n"
     ]
    }
   ],
   "source": [
    "response = rag_chain.invoke({\"input\": \"who is Razib Dash\"})\n",
    "print(response[\"answer\"])"
   ]
  },
  {
   "cell_type": "code",
   "execution_count": null,
   "id": "b3b9f2d8",
   "metadata": {},
   "outputs": [],
   "source": []
  }
 ],
 "metadata": {
  "kernelspec": {
   "display_name": "mubot",
   "language": "python",
   "name": "python3"
  },
  "language_info": {
   "codemirror_mode": {
    "name": "ipython",
    "version": 3
   },
   "file_extension": ".py",
   "mimetype": "text/x-python",
   "name": "python",
   "nbconvert_exporter": "python",
   "pygments_lexer": "ipython3",
   "version": "3.10.18"
  }
 },
 "nbformat": 4,
 "nbformat_minor": 5
}
